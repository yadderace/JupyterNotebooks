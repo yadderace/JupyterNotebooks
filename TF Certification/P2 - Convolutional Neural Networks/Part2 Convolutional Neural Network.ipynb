{
 "cells": [
  {
   "cell_type": "markdown",
   "metadata": {
    "id": "3DR-eO17geWu"
   },
   "source": [
    "# Convolutional Neural Network"
   ]
  },
  {
   "cell_type": "markdown",
   "metadata": {
    "id": "EMefrVPCg-60"
   },
   "source": [
    "### Importing the libraries"
   ]
  },
  {
   "cell_type": "code",
   "execution_count": 1,
   "metadata": {
    "executionInfo": {
     "elapsed": 2522,
     "status": "ok",
     "timestamp": 1606571196604,
     "user": {
      "displayName": "Yadder Aceituno",
      "photoUrl": "https://lh3.googleusercontent.com/a-/AOh14Gir0QW3sHBy8JPYyFpbxUpwog6jy_RtrzHM_aCkng=s64",
      "userId": "14770512295768730852"
     },
     "user_tz": 360
    },
    "id": "WdvBnvRyGPQk"
   },
   "outputs": [],
   "source": [
    "import tensorflow as tf\n",
    "from keras.preprocessing.image import ImageDataGenerator"
   ]
  },
  {
   "cell_type": "code",
   "execution_count": 2,
   "metadata": {
    "colab": {
     "base_uri": "https://localhost:8080/"
    },
    "executionInfo": {
     "elapsed": 908,
     "status": "ok",
     "timestamp": 1606571199684,
     "user": {
      "displayName": "Yadder Aceituno",
      "photoUrl": "https://lh3.googleusercontent.com/a-/AOh14Gir0QW3sHBy8JPYyFpbxUpwog6jy_RtrzHM_aCkng=s64",
      "userId": "14770512295768730852"
     },
     "user_tz": 360
    },
    "id": "uz77nyGUGhJq",
    "outputId": "6d532e26-f779-4cde-b1d4-c7d3942cd2d9"
   },
   "outputs": [
    {
     "name": "stdout",
     "output_type": "stream",
     "text": [
      "2.3.1\n"
     ]
    }
   ],
   "source": [
    "print(tf.__version__)"
   ]
  },
  {
   "cell_type": "markdown",
   "metadata": {
    "id": "oxQxCBWyoGPE"
   },
   "source": [
    "## Part 1 - Data Preprocessing"
   ]
  },
  {
   "cell_type": "markdown",
   "metadata": {
    "id": "MvE-heJNo3GG"
   },
   "source": [
    "### Preprocessing the Training set"
   ]
  },
  {
   "cell_type": "code",
   "execution_count": 3,
   "metadata": {
    "id": "4aHItpk1G_71"
   },
   "outputs": [
    {
     "name": "stdout",
     "output_type": "stream",
     "text": [
      "Found 8000 images belonging to 2 classes.\n"
     ]
    }
   ],
   "source": [
    "train_datagen = ImageDataGenerator(\n",
    "        rescale=1./255, # Normalizations for pixels\n",
    "        shear_range=0.2,\n",
    "        zoom_range=0.2,\n",
    "        horizontal_flip=True)\n",
    "\n",
    "training_set = train_datagen.flow_from_directory(\n",
    "        'dataset/training_set',\n",
    "        target_size=(64, 64),\n",
    "        batch_size=32,\n",
    "        class_mode='binary')"
   ]
  },
  {
   "cell_type": "markdown",
   "metadata": {
    "id": "mrCMmGw9pHys"
   },
   "source": [
    "### Preprocessing the Test set"
   ]
  },
  {
   "cell_type": "code",
   "execution_count": 4,
   "metadata": {
    "id": "P_TifwBpXBMQ"
   },
   "outputs": [
    {
     "name": "stdout",
     "output_type": "stream",
     "text": [
      "Found 2000 images belonging to 2 classes.\n"
     ]
    }
   ],
   "source": [
    "test_datagen = ImageDataGenerator(rescale=1./255)\n",
    "test_set = test_datagen.flow_from_directory(\n",
    "        'dataset/test_set',\n",
    "        target_size=(64, 64),\n",
    "        batch_size=32,\n",
    "        class_mode='binary')"
   ]
  },
  {
   "cell_type": "markdown",
   "metadata": {
    "id": "af8O4l90gk7B"
   },
   "source": [
    "## Part 2 - Building the CNN"
   ]
  },
  {
   "cell_type": "markdown",
   "metadata": {
    "id": "ces1gXY2lmoX"
   },
   "source": [
    "### Initialising the CNN"
   ]
  },
  {
   "cell_type": "code",
   "execution_count": 54,
   "metadata": {
    "id": "5O5XJhSdZho-"
   },
   "outputs": [],
   "source": [
    "cnn = tf.keras.models.Sequential()"
   ]
  },
  {
   "cell_type": "markdown",
   "metadata": {
    "id": "u5YJj_XMl5LF"
   },
   "source": [
    "### Step 1 - Convolution"
   ]
  },
  {
   "cell_type": "code",
   "execution_count": 55,
   "metadata": {
    "id": "wp5KUWBEZx3y"
   },
   "outputs": [],
   "source": [
    "cnn.add(\n",
    "    tf.keras.layers.Conv2D(\n",
    "        filters = 32, # Quantity of feature detectors \n",
    "        kernel_size = 3, # Size for feature detector\n",
    "        activation = 'relu',\n",
    "        input_shape = [64, 64, 3] # The size of images\n",
    "    )\n",
    ")"
   ]
  },
  {
   "cell_type": "markdown",
   "metadata": {
    "id": "tf87FpvxmNOJ"
   },
   "source": [
    "### Step 2 - Pooling"
   ]
  },
  {
   "cell_type": "code",
   "execution_count": 56,
   "metadata": {
    "id": "54DePj-MbXRR"
   },
   "outputs": [],
   "source": [
    "cnn.add(\n",
    "    tf.keras.layers.MaxPool2D(\n",
    "        pool_size = 2, # The size of pool\n",
    "        strides = 2 # The shift size\n",
    "    )\n",
    ")"
   ]
  },
  {
   "cell_type": "markdown",
   "metadata": {
    "id": "xaTOgD8rm4mU"
   },
   "source": [
    "### Adding a second convolutional layer"
   ]
  },
  {
   "cell_type": "code",
   "execution_count": 57,
   "metadata": {
    "id": "kKayPCgK0yll"
   },
   "outputs": [],
   "source": [
    "cnn.add(\n",
    "    tf.keras.layers.Conv2D(\n",
    "        filters = 32, # Quantity of feature detectors \n",
    "        kernel_size = 3, # Size for feature detector\n",
    "        activation = 'relu'\n",
    "    )\n",
    ")\n",
    "\n",
    "cnn.add(\n",
    "    tf.keras.layers.MaxPool2D(\n",
    "        pool_size = 2, # The size of pool\n",
    "        strides = 2 # The shift size\n",
    "    )\n",
    ")"
   ]
  },
  {
   "cell_type": "markdown",
   "metadata": {
    "id": "tmiEuvTunKfk"
   },
   "source": [
    "### Step 3 - Flattening"
   ]
  },
  {
   "cell_type": "code",
   "execution_count": 58,
   "metadata": {
    "id": "sPdqxcjD0_Va"
   },
   "outputs": [],
   "source": [
    "cnn.add(\n",
    "    tf.keras.layers.Flatten()\n",
    ")"
   ]
  },
  {
   "cell_type": "markdown",
   "metadata": {
    "id": "dAoSECOm203v"
   },
   "source": [
    "### Step 4 - Full Connection"
   ]
  },
  {
   "cell_type": "code",
   "execution_count": 59,
   "metadata": {
    "id": "U_onQBKQ1PQM"
   },
   "outputs": [],
   "source": [
    "cnn.add(tf.keras.layers.Dense(units = 128, activation = 'relu'))"
   ]
  },
  {
   "cell_type": "markdown",
   "metadata": {
    "id": "yTldFvbX28Na"
   },
   "source": [
    "### Step 5 - Output Layer"
   ]
  },
  {
   "cell_type": "code",
   "execution_count": 60,
   "metadata": {
    "id": "sOKgOv3R2gwj"
   },
   "outputs": [],
   "source": [
    "cnn.add(tf.keras.layers.Dense(units = 1, activation = 'sigmoid'))"
   ]
  },
  {
   "cell_type": "markdown",
   "metadata": {
    "id": "D6XkI90snSDl"
   },
   "source": [
    "## Part 3 - Training the CNN"
   ]
  },
  {
   "cell_type": "markdown",
   "metadata": {
    "id": "vfrFQACEnc6i"
   },
   "source": [
    "### Compiling the CNN"
   ]
  },
  {
   "cell_type": "code",
   "execution_count": 61,
   "metadata": {
    "id": "3IRJ8Jwi3PIe"
   },
   "outputs": [],
   "source": [
    "cnn.compile(optimizer = 'adam', # Stockastic Gradient Descent\n",
    "            loss = 'binary_crossentropy', \n",
    "            metrics = ['accuracy'])"
   ]
  },
  {
   "cell_type": "markdown",
   "metadata": {
    "id": "ehS-v3MIpX2h"
   },
   "source": [
    "### Training the CNN on the Training set and evaluating it on the Test set"
   ]
  },
  {
   "cell_type": "code",
   "execution_count": 62,
   "metadata": {
    "id": "nFdl20Dn3u0-"
   },
   "outputs": [
    {
     "name": "stdout",
     "output_type": "stream",
     "text": [
      "Epoch 1/25\n",
      "250/250 [==============================] - 96s 384ms/step - loss: 0.6736 - accuracy: 0.5788 - val_loss: 0.6229 - val_accuracy: 0.6615\n",
      "Epoch 2/25\n",
      "250/250 [==============================] - 96s 383ms/step - loss: 0.6130 - accuracy: 0.6610 - val_loss: 0.5849 - val_accuracy: 0.7000\n",
      "Epoch 3/25\n",
      "250/250 [==============================] - 94s 378ms/step - loss: 0.5536 - accuracy: 0.7176 - val_loss: 0.5311 - val_accuracy: 0.7400\n",
      "Epoch 4/25\n",
      "250/250 [==============================] - 94s 377ms/step - loss: 0.5227 - accuracy: 0.7401 - val_loss: 0.5204 - val_accuracy: 0.7365\n",
      "Epoch 5/25\n",
      "250/250 [==============================] - 94s 376ms/step - loss: 0.5055 - accuracy: 0.7461 - val_loss: 0.5173 - val_accuracy: 0.7425\n",
      "Epoch 6/25\n",
      "250/250 [==============================] - 93s 373ms/step - loss: 0.4818 - accuracy: 0.7661 - val_loss: 0.5752 - val_accuracy: 0.6995\n",
      "Epoch 7/25\n",
      "250/250 [==============================] - 95s 378ms/step - loss: 0.4734 - accuracy: 0.7709 - val_loss: 0.4809 - val_accuracy: 0.7780\n",
      "Epoch 8/25\n",
      "250/250 [==============================] - 94s 377ms/step - loss: 0.4560 - accuracy: 0.7797 - val_loss: 0.4975 - val_accuracy: 0.7615\n",
      "Epoch 9/25\n",
      "250/250 [==============================] - 93s 371ms/step - loss: 0.4369 - accuracy: 0.7936 - val_loss: 0.4958 - val_accuracy: 0.7605\n",
      "Epoch 10/25\n",
      "250/250 [==============================] - 95s 379ms/step - loss: 0.4306 - accuracy: 0.8009 - val_loss: 0.4799 - val_accuracy: 0.7845\n",
      "Epoch 11/25\n",
      "250/250 [==============================] - 94s 375ms/step - loss: 0.4131 - accuracy: 0.8081 - val_loss: 0.4574 - val_accuracy: 0.7965\n",
      "Epoch 12/25\n",
      "250/250 [==============================] - 93s 374ms/step - loss: 0.3958 - accuracy: 0.8196 - val_loss: 0.4697 - val_accuracy: 0.7790\n",
      "Epoch 13/25\n",
      "250/250 [==============================] - 93s 371ms/step - loss: 0.3891 - accuracy: 0.8255 - val_loss: 0.4451 - val_accuracy: 0.7990\n",
      "Epoch 14/25\n",
      "250/250 [==============================] - 94s 375ms/step - loss: 0.3739 - accuracy: 0.8325 - val_loss: 0.4573 - val_accuracy: 0.7965\n",
      "Epoch 15/25\n",
      "250/250 [==============================] - 93s 372ms/step - loss: 0.3665 - accuracy: 0.8340 - val_loss: 0.4558 - val_accuracy: 0.8020\n",
      "Epoch 16/25\n",
      "250/250 [==============================] - 93s 373ms/step - loss: 0.3463 - accuracy: 0.8450 - val_loss: 0.4604 - val_accuracy: 0.8060\n",
      "Epoch 17/25\n",
      "250/250 [==============================] - 92s 366ms/step - loss: 0.3454 - accuracy: 0.8511 - val_loss: 0.5897 - val_accuracy: 0.7315\n",
      "Epoch 18/25\n",
      "250/250 [==============================] - 92s 368ms/step - loss: 0.3251 - accuracy: 0.8565 - val_loss: 0.4562 - val_accuracy: 0.8125\n",
      "Epoch 19/25\n",
      "250/250 [==============================] - 91s 366ms/step - loss: 0.3053 - accuracy: 0.8695 - val_loss: 0.4668 - val_accuracy: 0.8035\n",
      "Epoch 20/25\n",
      "250/250 [==============================] - 88s 352ms/step - loss: 0.2956 - accuracy: 0.8715 - val_loss: 0.4849 - val_accuracy: 0.8035\n",
      "Epoch 21/25\n",
      "250/250 [==============================] - 79s 315ms/step - loss: 0.2722 - accuracy: 0.8824 - val_loss: 0.4615 - val_accuracy: 0.8125\n",
      "Epoch 22/25\n",
      "250/250 [==============================] - 78s 313ms/step - loss: 0.2690 - accuracy: 0.8831 - val_loss: 0.4747 - val_accuracy: 0.8180\n",
      "Epoch 23/25\n",
      "250/250 [==============================] - 78s 311ms/step - loss: 0.2568 - accuracy: 0.8921 - val_loss: 0.5288 - val_accuracy: 0.7950\n",
      "Epoch 24/25\n",
      "250/250 [==============================] - 79s 314ms/step - loss: 0.2367 - accuracy: 0.9032 - val_loss: 0.5650 - val_accuracy: 0.7890\n",
      "Epoch 25/25\n",
      "250/250 [==============================] - 79s 315ms/step - loss: 0.2381 - accuracy: 0.9022 - val_loss: 0.5869 - val_accuracy: 0.7850\n"
     ]
    },
    {
     "data": {
      "text/plain": [
       "<tensorflow.python.keras.callbacks.History at 0x7f282c6fa208>"
      ]
     },
     "execution_count": 62,
     "metadata": {},
     "output_type": "execute_result"
    }
   ],
   "source": [
    "cnn.fit(x = training_set, validation_data = test_set, epochs = 25)"
   ]
  },
  {
   "cell_type": "markdown",
   "metadata": {
    "id": "U3PZasO0006Z"
   },
   "source": [
    "## Part 4 - Making a single prediction"
   ]
  },
  {
   "cell_type": "code",
   "execution_count": 65,
   "metadata": {
    "id": "edfnrVEC5Jta"
   },
   "outputs": [
    {
     "name": "stdout",
     "output_type": "stream",
     "text": [
      "{'cats': 0, 'dogs': 1}\n",
      "[[0.]]\n"
     ]
    }
   ],
   "source": [
    "import numpy as np\n",
    "from keras.preprocessing import image\n",
    "\n",
    "test_image = image.load_img('dataset/single_prediction/cat_or_dog_2.jpg', \n",
    "                            target_size = (64, 64))\n",
    "test_image = image.img_to_array(test_image)\n",
    "test_image = np.expand_dims(test_image, # Due to batch_size\n",
    "                            axis = 0) # The first dimension\n",
    "\n",
    "result =  cnn.predict(test_image)\n",
    "\n",
    "print(training_set.class_indices)\n",
    "\n",
    "print(result)\n",
    "\n",
    "if result[0][0] == 1:\n",
    "  prediction = 'dog'\n",
    "else:\n",
    "  prediction = 'cat'"
   ]
  },
  {
   "cell_type": "code",
   "execution_count": 66,
   "metadata": {
    "id": "RP7-kdxr8sa6"
   },
   "outputs": [
    {
     "name": "stdout",
     "output_type": "stream",
     "text": [
      "cat\n"
     ]
    }
   ],
   "source": [
    "print(prediction)"
   ]
  }
 ],
 "metadata": {
  "colab": {
   "collapsed_sections": [],
   "name": "Copia de convolutional_neural_network.ipynb",
   "provenance": [
    {
     "file_id": "1Y-a4g98w93GHswXLRLoiogvMYNPgzPE9",
     "timestamp": 1606570263706
    }
   ]
  },
  "kernelspec": {
   "display_name": "Python 3",
   "language": "python",
   "name": "python3"
  },
  "language_info": {
   "codemirror_mode": {
    "name": "ipython",
    "version": 3
   },
   "file_extension": ".py",
   "mimetype": "text/x-python",
   "name": "python",
   "nbconvert_exporter": "python",
   "pygments_lexer": "ipython3",
   "version": "3.6.9"
  }
 },
 "nbformat": 4,
 "nbformat_minor": 1
}
